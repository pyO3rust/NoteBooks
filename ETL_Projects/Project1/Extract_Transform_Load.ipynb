{
 "cells": [
  {
   "cell_type": "markdown",
   "id": "487990b7",
   "metadata": {},
   "source": [
    "# ETL"
   ]
  },
  {
   "cell_type": "code",
   "execution_count": null,
   "id": "28219cba",
   "metadata": {},
   "outputs": [],
   "source": [
    "import glob                          # this module helps in selecting files\n",
    "import pandas as pd                  # this module helps in processing CSV files\n",
    "import xml.etree.ElementTree as Et   # this module helps in processing XML files.\n",
    "import urllib.request                # to download the data set\n",
    "from datetime import datetime\n"
   ]
  },
  {
   "cell_type": "code",
   "execution_count": 131,
   "id": "4bd5f385",
   "metadata": {},
   "outputs": [
    {
     "data": {
      "text/plain": [
       "('source.zip', <http.client.HTTPMessage at 0x23eaf62b220>)"
      ]
     },
     "execution_count": 131,
     "metadata": {},
     "output_type": "execute_result"
    }
   ],
   "source": [
    "urllib.request.urlretrieve('https://cf-courses-data.s3.us.cloud-object-storage.appdomain.cloud/IBMDeveloperSkillsNetwork-PY0221EN-SkillsNetwork/labs/module%206/Lab%20-%20Extract%20Transform%20Load/data/source.zip', 'source.zip')"
   ]
  },
  {
   "cell_type": "markdown",
   "id": "1b0c5845",
   "metadata": {},
   "source": [
    "A TMP file is a temporary backup, cache, or other data file created automatically by a software program. It is sometimes created as an invisible file and is often deleted when the program is closed. TMP files may also be created to contain information temporarily while a new file is being generated."
   ]
  },
  {
   "cell_type": "code",
   "execution_count": 132,
   "id": "b9e6437d",
   "metadata": {},
   "outputs": [],
   "source": [
    "#set paths\n",
    "tmpfile    = \"temp.tmp\"               # file used to store all extracted data\n",
    "logfile    = \"logfile.txt\"            # all event logs will be stored in this file\n",
    "targetfile = \"transformed_data.csv\"   # file where transformed data is stored\n"
   ]
  },
  {
   "cell_type": "markdown",
   "id": "888c5795",
   "metadata": {},
   "source": [
    "### Extract"
   ]
  },
  {
   "cell_type": "markdown",
   "id": "aa886674",
   "metadata": {},
   "source": [
    "##### Csv Extract"
   ]
  },
  {
   "cell_type": "code",
   "execution_count": 133,
   "id": "b34bfb81",
   "metadata": {},
   "outputs": [],
   "source": [
    "def extract_from_csv(file_to_process):\n",
    "    dataframe = pd.read_csv(file_to_process)\n",
    "    return dataframe\n"
   ]
  },
  {
   "cell_type": "markdown",
   "id": "2d171867",
   "metadata": {},
   "source": [
    "#### Json Extract"
   ]
  },
  {
   "cell_type": "code",
   "execution_count": 134,
   "id": "d6147bb4",
   "metadata": {},
   "outputs": [],
   "source": [
    "def extract_from_json(file_to_process):\n",
    "    dataframe = pd.read_json(file_to_process,lines=True)\n",
    "    return dataframe"
   ]
  },
  {
   "cell_type": "markdown",
   "id": "88cebbf5",
   "metadata": {},
   "source": [
    "#### XMl Extract"
   ]
  },
  {
   "cell_type": "code",
   "execution_count": 135,
   "id": "de8e6894",
   "metadata": {},
   "outputs": [],
   "source": [
    "def extract_from_xml(file_to_process):\n",
    "    columns = ['name','height', 'weight']\n",
    "    #or dataframe = pd.DataFrame(columns=[\"name\", \"height\", \"weight\"])\n",
    "    dataframe = pd.DataFrame(columns = columns)\n",
    "    #parsing\n",
    "    tree = Et.parse(file_to_process)\n",
    "    root = tree.getroot()\n",
    "    for person in root: #person is a node \n",
    "        name = person.find(\"name\").text\n",
    "        height = float(person.find(\"height\").text)\n",
    "        weight = float(person.find(\"weight\").text)\n",
    "        dataframe = dataframe.append(pd.Series([name, height, weight], index = columns), ignore_index=True)\n",
    "        # or dataframe = dataframe.append({\"name\":name, \"height\":height, \"weight\":weight}, ignore_index=True)\n",
    "    return dataframe\n",
    "\n"
   ]
  },
  {
   "cell_type": "markdown",
   "id": "c0169bf0",
   "metadata": {},
   "source": [
    "#### Preparation (same goes for xml & json files)"
   ]
  },
  {
   "cell_type": "code",
   "execution_count": 136,
   "id": "1c3ca45f",
   "metadata": {},
   "outputs": [
    {
     "name": "stdout",
     "output_type": "stream",
     "text": [
      "2022-03-15 16:39:58.810562\n"
     ]
    }
   ],
   "source": [
    "#Create a date object:\n",
    "x = datetime.now()\n",
    "print(x)"
   ]
  },
  {
   "cell_type": "code",
   "execution_count": 137,
   "id": "a5656366",
   "metadata": {},
   "outputs": [
    {
     "name": "stdout",
     "output_type": "stream",
     "text": [
      "August\n"
     ]
    }
   ],
   "source": [
    "#display the name of month\n",
    "x = datetime(2020, 8, 1)\n",
    "\n",
    "print(x.strftime(\"%B\")) #%B for full month name, check https://www.w3schools.com/python/python_datetime.asp"
   ]
  },
  {
   "cell_type": "code",
   "execution_count": 138,
   "id": "09e9370b",
   "metadata": {},
   "outputs": [
    {
     "data": {
      "text/plain": [
       "['source\\\\source1.csv', 'source\\\\source2.csv', 'source\\\\source3.csv']"
      ]
     },
     "execution_count": 138,
     "metadata": {},
     "output_type": "execute_result"
    }
   ],
   "source": [
    "#to get all the csv files\n",
    "list_csv = glob.glob(\"source/*.csv\")\n",
    "list_csv"
   ]
  },
  {
   "cell_type": "code",
   "execution_count": 139,
   "id": "93bd16b9",
   "metadata": {},
   "outputs": [
    {
     "name": "stdout",
     "output_type": "stream",
     "text": [
      "source\\source1.csv\n",
      "source\\source2.csv\n",
      "source\\source3.csv\n"
     ]
    }
   ],
   "source": [
    "#iterating\n",
    "for csvfile in glob.glob('source/*.csv'): #iterating thru each csvfile\n",
    "    print(csvfile)"
   ]
  },
  {
   "cell_type": "code",
   "execution_count": 140,
   "id": "dd6b6791",
   "metadata": {},
   "outputs": [
    {
     "data": {
      "text/html": [
       "<div>\n",
       "<style scoped>\n",
       "    .dataframe tbody tr th:only-of-type {\n",
       "        vertical-align: middle;\n",
       "    }\n",
       "\n",
       "    .dataframe tbody tr th {\n",
       "        vertical-align: top;\n",
       "    }\n",
       "\n",
       "    .dataframe thead th {\n",
       "        text-align: right;\n",
       "    }\n",
       "</style>\n",
       "<table border=\"1\" class=\"dataframe\">\n",
       "  <thead>\n",
       "    <tr style=\"text-align: right;\">\n",
       "      <th></th>\n",
       "      <th>name</th>\n",
       "      <th>height</th>\n",
       "      <th>weight</th>\n",
       "    </tr>\n",
       "  </thead>\n",
       "  <tbody>\n",
       "    <tr>\n",
       "      <th>0</th>\n",
       "      <td>akshay</td>\n",
       "      <td>65.78</td>\n",
       "      <td>112.99</td>\n",
       "    </tr>\n",
       "    <tr>\n",
       "      <th>1</th>\n",
       "      <td>ajay</td>\n",
       "      <td>71.52</td>\n",
       "      <td>136.49</td>\n",
       "    </tr>\n",
       "    <tr>\n",
       "      <th>2</th>\n",
       "      <td>alice</td>\n",
       "      <td>69.40</td>\n",
       "      <td>153.03</td>\n",
       "    </tr>\n",
       "    <tr>\n",
       "      <th>3</th>\n",
       "      <td>ravi</td>\n",
       "      <td>68.22</td>\n",
       "      <td>142.34</td>\n",
       "    </tr>\n",
       "    <tr>\n",
       "      <th>4</th>\n",
       "      <td>joe</td>\n",
       "      <td>67.79</td>\n",
       "      <td>144.30</td>\n",
       "    </tr>\n",
       "    <tr>\n",
       "      <th>5</th>\n",
       "      <td>akshay</td>\n",
       "      <td>65.78</td>\n",
       "      <td>112.99</td>\n",
       "    </tr>\n",
       "    <tr>\n",
       "      <th>6</th>\n",
       "      <td>ajay</td>\n",
       "      <td>71.52</td>\n",
       "      <td>136.49</td>\n",
       "    </tr>\n",
       "    <tr>\n",
       "      <th>7</th>\n",
       "      <td>alice</td>\n",
       "      <td>69.40</td>\n",
       "      <td>153.03</td>\n",
       "    </tr>\n",
       "    <tr>\n",
       "      <th>8</th>\n",
       "      <td>ravi</td>\n",
       "      <td>68.22</td>\n",
       "      <td>142.34</td>\n",
       "    </tr>\n",
       "    <tr>\n",
       "      <th>9</th>\n",
       "      <td>joe</td>\n",
       "      <td>67.79</td>\n",
       "      <td>144.30</td>\n",
       "    </tr>\n",
       "    <tr>\n",
       "      <th>10</th>\n",
       "      <td>akshay</td>\n",
       "      <td>65.78</td>\n",
       "      <td>112.99</td>\n",
       "    </tr>\n",
       "    <tr>\n",
       "      <th>11</th>\n",
       "      <td>ajay</td>\n",
       "      <td>71.52</td>\n",
       "      <td>136.49</td>\n",
       "    </tr>\n",
       "    <tr>\n",
       "      <th>12</th>\n",
       "      <td>alice</td>\n",
       "      <td>69.40</td>\n",
       "      <td>153.03</td>\n",
       "    </tr>\n",
       "    <tr>\n",
       "      <th>13</th>\n",
       "      <td>ravi</td>\n",
       "      <td>68.22</td>\n",
       "      <td>142.34</td>\n",
       "    </tr>\n",
       "    <tr>\n",
       "      <th>14</th>\n",
       "      <td>joe</td>\n",
       "      <td>67.79</td>\n",
       "      <td>144.30</td>\n",
       "    </tr>\n",
       "  </tbody>\n",
       "</table>\n",
       "</div>"
      ],
      "text/plain": [
       "      name  height  weight\n",
       "0   akshay   65.78  112.99\n",
       "1     ajay   71.52  136.49\n",
       "2    alice   69.40  153.03\n",
       "3     ravi   68.22  142.34\n",
       "4      joe   67.79  144.30\n",
       "5   akshay   65.78  112.99\n",
       "6     ajay   71.52  136.49\n",
       "7    alice   69.40  153.03\n",
       "8     ravi   68.22  142.34\n",
       "9      joe   67.79  144.30\n",
       "10  akshay   65.78  112.99\n",
       "11    ajay   71.52  136.49\n",
       "12   alice   69.40  153.03\n",
       "13    ravi   68.22  142.34\n",
       "14     joe   67.79  144.30"
      ]
     },
     "execution_count": 140,
     "metadata": {},
     "output_type": "execute_result"
    }
   ],
   "source": [
    "#appending all the csvs\n",
    "extracted_dt = pd.DataFrame(columns=['name','height','weight'])\n",
    "for csvfile in glob.glob('source/*.csv'): #iterating thru each csvfile\n",
    "    extracted_dt = extracted_dt.append(extract_from_csv(csvfile), ignore_index=True) #passing csvfile to the *Csv Extract* to read the csv files using pandas\n",
    "extracted_dt"
   ]
  },
  {
   "cell_type": "code",
   "execution_count": 141,
   "id": "bd92fab6",
   "metadata": {},
   "outputs": [
    {
     "data": {
      "text/html": [
       "<div>\n",
       "<style scoped>\n",
       "    .dataframe tbody tr th:only-of-type {\n",
       "        vertical-align: middle;\n",
       "    }\n",
       "\n",
       "    .dataframe tbody tr th {\n",
       "        vertical-align: top;\n",
       "    }\n",
       "\n",
       "    .dataframe thead th {\n",
       "        text-align: right;\n",
       "    }\n",
       "</style>\n",
       "<table border=\"1\" class=\"dataframe\">\n",
       "  <thead>\n",
       "    <tr style=\"text-align: right;\">\n",
       "      <th></th>\n",
       "      <th>name</th>\n",
       "      <th>height</th>\n",
       "      <th>weight</th>\n",
       "    </tr>\n",
       "  </thead>\n",
       "  <tbody>\n",
       "    <tr>\n",
       "      <th>0</th>\n",
       "      <td>akshay</td>\n",
       "      <td>65.78</td>\n",
       "      <td>112.99</td>\n",
       "    </tr>\n",
       "    <tr>\n",
       "      <th>1</th>\n",
       "      <td>ajay</td>\n",
       "      <td>71.52</td>\n",
       "      <td>136.49</td>\n",
       "    </tr>\n",
       "    <tr>\n",
       "      <th>2</th>\n",
       "      <td>alice</td>\n",
       "      <td>69.40</td>\n",
       "      <td>153.03</td>\n",
       "    </tr>\n",
       "    <tr>\n",
       "      <th>3</th>\n",
       "      <td>ravi</td>\n",
       "      <td>68.22</td>\n",
       "      <td>142.34</td>\n",
       "    </tr>\n",
       "    <tr>\n",
       "      <th>4</th>\n",
       "      <td>joe</td>\n",
       "      <td>67.79</td>\n",
       "      <td>144.30</td>\n",
       "    </tr>\n",
       "    <tr>\n",
       "      <th>5</th>\n",
       "      <td>akshay</td>\n",
       "      <td>65.78</td>\n",
       "      <td>112.99</td>\n",
       "    </tr>\n",
       "    <tr>\n",
       "      <th>6</th>\n",
       "      <td>ajay</td>\n",
       "      <td>71.52</td>\n",
       "      <td>136.49</td>\n",
       "    </tr>\n",
       "    <tr>\n",
       "      <th>7</th>\n",
       "      <td>alice</td>\n",
       "      <td>69.40</td>\n",
       "      <td>153.03</td>\n",
       "    </tr>\n",
       "    <tr>\n",
       "      <th>8</th>\n",
       "      <td>ravi</td>\n",
       "      <td>68.22</td>\n",
       "      <td>142.34</td>\n",
       "    </tr>\n",
       "    <tr>\n",
       "      <th>9</th>\n",
       "      <td>joe</td>\n",
       "      <td>67.79</td>\n",
       "      <td>144.30</td>\n",
       "    </tr>\n",
       "    <tr>\n",
       "      <th>10</th>\n",
       "      <td>akshay</td>\n",
       "      <td>65.78</td>\n",
       "      <td>112.99</td>\n",
       "    </tr>\n",
       "    <tr>\n",
       "      <th>11</th>\n",
       "      <td>ajay</td>\n",
       "      <td>71.52</td>\n",
       "      <td>136.49</td>\n",
       "    </tr>\n",
       "    <tr>\n",
       "      <th>12</th>\n",
       "      <td>alice</td>\n",
       "      <td>69.40</td>\n",
       "      <td>153.03</td>\n",
       "    </tr>\n",
       "    <tr>\n",
       "      <th>13</th>\n",
       "      <td>ravi</td>\n",
       "      <td>68.22</td>\n",
       "      <td>142.34</td>\n",
       "    </tr>\n",
       "    <tr>\n",
       "      <th>14</th>\n",
       "      <td>joe</td>\n",
       "      <td>67.79</td>\n",
       "      <td>144.30</td>\n",
       "    </tr>\n",
       "  </tbody>\n",
       "</table>\n",
       "</div>"
      ],
      "text/plain": [
       "      name  height  weight\n",
       "0   akshay   65.78  112.99\n",
       "1     ajay   71.52  136.49\n",
       "2    alice   69.40  153.03\n",
       "3     ravi   68.22  142.34\n",
       "4      joe   67.79  144.30\n",
       "5   akshay   65.78  112.99\n",
       "6     ajay   71.52  136.49\n",
       "7    alice   69.40  153.03\n",
       "8     ravi   68.22  142.34\n",
       "9      joe   67.79  144.30\n",
       "10  akshay   65.78  112.99\n",
       "11    ajay   71.52  136.49\n",
       "12   alice   69.40  153.03\n",
       "13    ravi   68.22  142.34\n",
       "14     joe   67.79  144.30"
      ]
     },
     "execution_count": 141,
     "metadata": {},
     "output_type": "execute_result"
    }
   ],
   "source": [
    "#alternative (appending all csvs)\n",
    "extracted_dt = pd.DataFrame(columns=['name','height','weight'])\n",
    "for csvfile in glob.glob('source/*.csv'): #iterating thru each csvfile\n",
    "    extracted_dt = extracted_dt.append(pd.read_csv(csvfile), ignore_index=True) #passing csvfile to the *Csv Extract* to read the csv files using pandas\n",
    "extracted_dt"
   ]
  },
  {
   "cell_type": "markdown",
   "id": "9dbd4cda",
   "metadata": {},
   "source": [
    "#### Extract/composite functions"
   ]
  },
  {
   "cell_type": "code",
   "execution_count": 142,
   "id": "2e5f7553",
   "metadata": {},
   "outputs": [],
   "source": [
    "def extract():\n",
    "    extracted_data = pd.DataFrame(columns=['name','height','weight']) # create an empty data frame to hold extracted data\n",
    "     \n",
    "    #process all csv files\n",
    "    for csvfile in glob.glob(\"source/*.csv\"): #iterating thru each csvfile\n",
    "        extracted_data = extracted_data.append(extract_from_csv(csvfile), ignore_index=True) #passing csvfile to the *Csv Extract*\n",
    "\n",
    "    #process all json files\n",
    "    for jsonfile in glob.glob(\"source/*.json\"):\n",
    "        extracted_data = extracted_data.append(extract_from_json(jsonfile), ignore_index=True)\n",
    "    \n",
    "    #process all xml files\n",
    "    for xmlfile in glob.glob(\"source/*.xml\"):\n",
    "        extracted_data = extracted_data.append(extract_from_xml(xmlfile), ignore_index=True)\n",
    "        \n",
    "    return extracted_data\n",
    "            "
   ]
  },
  {
   "cell_type": "markdown",
   "id": "6a152b9b",
   "metadata": {},
   "source": [
    "#### Transform"
   ]
  },
  {
   "cell_type": "markdown",
   "id": "350af443",
   "metadata": {},
   "source": [
    "The transform function does the following tasks.\n",
    "\n",
    "1.  Convert height which is in inches to millimeter\n",
    "2.  Convert weight which is in pounds to kilograms"
   ]
  },
  {
   "cell_type": "code",
   "execution_count": 143,
   "id": "49486c5f",
   "metadata": {},
   "outputs": [],
   "source": [
    "def transform(data):\n",
    "        #Convert height which is in inches to millimeter\n",
    "        #Convert the datatype of the column into float *astype ()*\n",
    "        data.height = data.height.astype(float)\n",
    "        data['height'] = round(data.height * 0.0254,2)\n",
    "        \n",
    "        #Convert weight which is in pounds to kilograms\n",
    "        #Convert the datatype of the column into float\n",
    "        data.weight = data.weight.astype(float)\n",
    "        #Convert pounds to kilograms and round off to two decimals(one pound is 0.45359237 kilograms)\n",
    "        data['weight'] = round(data.weight * 0.45359237,2)\n",
    "        return data"
   ]
  },
  {
   "cell_type": "markdown",
   "id": "68a9434e",
   "metadata": {},
   "source": [
    "#### Loading"
   ]
  },
  {
   "cell_type": "code",
   "execution_count": 144,
   "id": "0e44f749",
   "metadata": {},
   "outputs": [],
   "source": [
    "#we gonna load the transformed data into the target file by passing it thru parameter data_do_load\n",
    "def load(targetfile, data_to_load):\n",
    "    data_to_load.to_csv(targetfile)"
   ]
  },
  {
   "cell_type": "markdown",
   "id": "fedd942a",
   "metadata": {},
   "source": [
    "#### logging"
   ]
  },
  {
   "cell_type": "code",
   "execution_count": 145,
   "id": "5651973c",
   "metadata": {},
   "outputs": [],
   "source": [
    "def log(message):\n",
    "    timestamp_format = '%Y-%h-%d-%H:%M:%S' # Year-Monthname-Day-Hour-Minute-Second\n",
    "    now = datetime.now() # get current timestamp\n",
    "    timestamp = now.strftime(timestamp_format)\n",
    "    with open(\"logfile.txt\",\"a\") as f:\n",
    "        f.write(timestamp + ',' + message + '\\n')"
   ]
  },
  {
   "cell_type": "markdown",
   "id": "4d34f97c",
   "metadata": {},
   "source": [
    "#### Running ETL Process"
   ]
  },
  {
   "cell_type": "code",
   "execution_count": 146,
   "id": "30eefb3c",
   "metadata": {},
   "outputs": [],
   "source": [
    "log(\"ETL Job Started\")"
   ]
  },
  {
   "cell_type": "code",
   "execution_count": 147,
   "id": "3198c825",
   "metadata": {},
   "outputs": [],
   "source": [
    "#Extract Phase process\n",
    "log(\"Extracted Phase Started\")\n",
    "extracted_data = extract()\n",
    "log(\"Extract Phase Ended\")\n",
    "\n"
   ]
  },
  {
   "cell_type": "code",
   "execution_count": 148,
   "id": "e848cf8e",
   "metadata": {},
   "outputs": [],
   "source": [
    "#Transform Phase Started\n",
    "log(\"Transform Phase Started\")\n",
    "transformed_data = transform(extracted_data)\n",
    "log(\"Transform Phase Ended\")\n"
   ]
  },
  {
   "cell_type": "code",
   "execution_count": 149,
   "id": "1c4f76c0",
   "metadata": {},
   "outputs": [],
   "source": [
    "#loading phase\n",
    "log(\"Load phase Started\")\n",
    "load(targetfile,transformed_data)\n",
    "log(\"Load phase Ended\")"
   ]
  },
  {
   "cell_type": "code",
   "execution_count": 150,
   "id": "a5f1b9b4",
   "metadata": {},
   "outputs": [],
   "source": [
    "log(\"ETL Job Ended\")"
   ]
  },
  {
   "cell_type": "code",
   "execution_count": 151,
   "id": "696c8af1",
   "metadata": {},
   "outputs": [
    {
     "name": "stdout",
     "output_type": "stream",
     "text": [
      "      name  height  weight\n",
      "0   akshay    1.67   51.25\n",
      "1     ajay    1.82   61.91\n",
      "2    alice    1.76   69.41\n",
      "3     ravi    1.73   64.56\n",
      "4      joe    1.72   65.45\n",
      "5   akshay    1.67   51.25\n",
      "6     ajay    1.82   61.91\n",
      "7    alice    1.76   69.41\n",
      "8     ravi    1.73   64.56\n",
      "9      joe    1.72   65.45\n",
      "10  akshay    1.67   51.25\n",
      "11    ajay    1.82   61.91\n",
      "12   alice    1.76   69.41\n",
      "13    ravi    1.73   64.56\n",
      "14     joe    1.72   65.45\n",
      "15    jack    1.74   55.93\n",
      "16     tom    1.77   64.18\n",
      "17   tracy    1.78   61.90\n",
      "18    john    1.72   50.97\n",
      "19    jack    1.74   55.93\n",
      "20     tom    1.77   64.18\n",
      "21   tracy    1.78   61.90\n",
      "22    john    1.72   50.97\n",
      "23    jack    1.74   55.93\n",
      "24     tom    1.77   64.18\n",
      "25   tracy    1.78   61.90\n",
      "26    john    1.72   50.97\n",
      "27   simon    1.72   50.97\n",
      "28   jacob    1.70   54.73\n",
      "29   cindy    1.69   57.81\n",
      "30    ivan    1.72   51.77\n",
      "31   simon    1.72   50.97\n",
      "32   jacob    1.70   54.73\n",
      "33   cindy    1.69   57.81\n",
      "34    ivan    1.72   51.77\n",
      "35   simon    1.72   50.97\n",
      "36   jacob    1.70   54.73\n",
      "37   cindy    1.69   57.81\n",
      "38    ivan    1.72   51.77\n"
     ]
    }
   ],
   "source": [
    "# reading transformed_data file\n",
    "# index_col is to remove the un-named index\n",
    "df = pd.read_csv(\"transformed_data.csv\", index_col=[0])\n",
    "print(df) \n"
   ]
  },
  {
   "cell_type": "code",
   "execution_count": null,
   "id": "4f421f7a",
   "metadata": {},
   "outputs": [],
   "source": []
  }
 ],
 "metadata": {
  "kernelspec": {
   "display_name": "Python 3 (ipykernel)",
   "language": "python",
   "name": "python3"
  },
  "language_info": {
   "codemirror_mode": {
    "name": "ipython",
    "version": 3
   },
   "file_extension": ".py",
   "mimetype": "text/x-python",
   "name": "python",
   "nbconvert_exporter": "python",
   "pygments_lexer": "ipython3",
   "version": "3.9.4"
  }
 },
 "nbformat": 4,
 "nbformat_minor": 5
}
