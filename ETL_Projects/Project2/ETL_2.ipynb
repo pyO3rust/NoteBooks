{
 "cells": [
  {
   "cell_type": "markdown",
   "id": "99131ba7",
   "metadata": {},
   "source": [
    "## ETL process"
   ]
  },
  {
   "cell_type": "code",
   "execution_count": 98,
   "id": "ba4b324f",
   "metadata": {},
   "outputs": [],
   "source": [
    "import glob                          # this module helps in selecting files\n",
    "import pandas as pd                  # this module helps in processing CSV files\n",
    "import xml.etree.ElementTree as ET   # this module helps in processing XML files.\n",
    "import urllib.request                # to download the data set\n",
    "from datetime import datetime"
   ]
  },
  {
   "cell_type": "code",
   "execution_count": 55,
   "id": "2914842b",
   "metadata": {},
   "outputs": [
    {
     "data": {
      "text/plain": [
       "('dealership_data.zip', <http.client.HTTPMessage at 0x1aca1d3b8e0>)"
      ]
     },
     "execution_count": 55,
     "metadata": {},
     "output_type": "execute_result"
    }
   ],
   "source": [
    "urllib.request.urlretrieve('https://cf-courses-data.s3.us.cloud-object-storage.appdomain.cloud/IBMDeveloperSkillsNetwork-PY0221EN-SkillsNetwork/labs/module%206/Lab%20-%20Extract%20Transform%20Load/data/datasource.zip', 'dealership_data.zip')"
   ]
  },
  {
   "cell_type": "code",
   "execution_count": 99,
   "id": "1e29c032",
   "metadata": {},
   "outputs": [],
   "source": [
    "#setting paths\n",
    "tmpfile    = \"dealership_temp.tmp\"               # file used to store all extracted data\n",
    "logfile    = \"dealership_logfile.txt\"            # all event logs will be stored in this file\n",
    "targetfile = \"dealership_transformed_data.csv\"   # file where transformed data is stored"
   ]
  },
  {
   "cell_type": "code",
   "execution_count": 100,
   "id": "bd97d690",
   "metadata": {},
   "outputs": [],
   "source": [
    "#csv extraction\n",
    "def extract_from_csv(file_to_process):\n",
    "    dataframe = pd.read_csv(file_to_process)\n",
    "    return dataframe"
   ]
  },
  {
   "cell_type": "code",
   "execution_count": 101,
   "id": "9e2d2499",
   "metadata": {},
   "outputs": [],
   "source": [
    "#json extraction\n",
    "def extract_from_json(file_to_process):\n",
    "    dataframe = pd.read_json(file_to_process,lines=True)\n",
    "    return dataframe"
   ]
  },
  {
   "cell_type": "code",
   "execution_count": 102,
   "id": "ae33919f",
   "metadata": {},
   "outputs": [],
   "source": [
    "#xml Extraction\n",
    "def extract_from_xml(file_to_process):\n",
    "    dataframe = pd.DataFrame(columns=['car_model','year_of_manufacture','price', 'fuel'])\n",
    "    tree = ET.parse(file_to_process)\n",
    "    root = tree.getroot()\n",
    "    for node in root:\n",
    "        car_model = node.find(\"car_model\").text\n",
    "        year_of_manufacture = int(node.find(\"year_of_manufacture\").text)\n",
    "        price = float(node.find(\"price\").text)\n",
    "        fuel = node.find(\"fuel\").text\n",
    "        dataframe = dataframe.append({\"car_model\":car_model, \"year_of_manufacture\":year_of_manufacture, \"price\":price, \"fuel\":fuel}, ignore_index=True)\n",
    "    return dataframe\n",
    "\n",
    "#extract_from_xml('dealership_data/used_car_prices3.xml')\n"
   ]
  },
  {
   "cell_type": "code",
   "execution_count": 103,
   "id": "2ddbe66a",
   "metadata": {},
   "outputs": [
    {
     "name": "stdout",
     "output_type": "stream",
     "text": [
      "dealership_data\\used_car_prices1.csv\n",
      "dealership_data\\used_car_prices2.csv\n",
      "dealership_data\\used_car_prices3.csv\n"
     ]
    }
   ],
   "source": [
    "#debugging\n",
    "for csvfile in glob.glob(\"dealership_data/*.csv\"):\n",
    "    print(csvfile)"
   ]
  },
  {
   "cell_type": "code",
   "execution_count": 104,
   "id": "d8915374",
   "metadata": {},
   "outputs": [
    {
     "name": "stdout",
     "output_type": "stream",
     "text": [
      "        car_model year_of_manufacture         price    fuel\n",
      "0            ritz                2014   5000.000000  Petrol\n",
      "1             sx4                2013   7089.552239  Diesel\n",
      "2            ciaz                2017  10820.895522  Petrol\n",
      "3         wagon r                2011   4253.731343  Petrol\n",
      "4           swift                2014   6865.671642  Diesel\n",
      "5   vitara brezza                2018  13805.970149  Diesel\n",
      "6            ciaz                2015  10074.626866  Petrol\n",
      "7         s cross                2015   9701.492537  Diesel\n",
      "8            ciaz                2016  13059.701493  Diesel\n",
      "9            ciaz                2015  11119.402985  Diesel\n",
      "10       alto 800                2017   4253.731343  Petrol\n",
      "11           ciaz                2015  10223.880597  Diesel\n",
      "12           ciaz                2015  11194.029851  Petrol\n",
      "13         ertiga                2015   9104.477612  Petrol\n",
      "14          dzire                2009   3358.208955  Petrol\n",
      "15         ertiga                2016  11567.164179  Diesel\n",
      "16         ertiga                2015  10820.895522  Diesel\n",
      "17         ertiga                2016  11567.164179  Diesel\n",
      "18        wagon r                2015   4850.746269     CNG\n",
      "19            sx4                2010   3955.223881  Petrol\n",
      "20       alto k10                2016   4253.731343  Petrol\n",
      "21          ignis                2017   7313.432836  Petrol\n",
      "22            sx4                2011   6567.164179  Petrol\n",
      "23       alto k10                2014   3731.343284  Petrol\n",
      "24        wagon r                2013   4328.358209  Petrol\n",
      "25          swift                2011   4477.611940  Petrol\n",
      "26          swift                2013   6194.029851  Petrol\n",
      "27          swift                2017   8955.223881  Petrol\n",
      "28       alto k10                2010   2910.447761  Petrol\n",
      "29           ciaz                2015  11119.402985  Diesel\n"
     ]
    }
   ],
   "source": [
    "#debugging and appending\n",
    "extracted_data = pd.DataFrame(columns=['car_model','year_of_manufacture','price', 'fuel']) # create an empty data frame to hold extracted data\n",
    "for csvfile in glob.glob(\"dealership_data/*.csv\"):\n",
    "        extracted_data = extracted_data.append(pd.read_csv(csvfile), ignore_index=True)\n",
    "print(extracted_data)"
   ]
  },
  {
   "cell_type": "code",
   "execution_count": 105,
   "id": "71c82d53",
   "metadata": {},
   "outputs": [],
   "source": [
    "#Extract Function\n",
    "def extract():\n",
    "    extracted_data = pd.DataFrame(columns=['car_model','year_of_manufacture','price', 'fuel']) # create an empty data frame to hold extracted data\n",
    "    \n",
    "    #process all csv files\n",
    "    for csvfile in glob.glob(\"dealership_data/*.csv\"):\n",
    "        extracted_data = extracted_data.append(extract_from_csv(csvfile), ignore_index=True)\n",
    "        \n",
    "    #process all json files\n",
    "    for jsonfile in glob.glob(\"dealership_data/*.json\"):\n",
    "        extracted_data = extracted_data.append(extract_from_json(jsonfile), ignore_index=True)\n",
    "    \n",
    "    #process all xml files\n",
    "    for xmlfile in glob.glob(\"dealership_data/*.xml\"):\n",
    "        extracted_data = extracted_data.append(extract_from_xml(xmlfile), ignore_index=True)\n",
    "        \n",
    "    return extracted_data"
   ]
  },
  {
   "cell_type": "code",
   "execution_count": 106,
   "id": "2986ed26",
   "metadata": {},
   "outputs": [],
   "source": [
    "#transform function\n",
    "#Round the `price` columns to 2 decimal places\n",
    "def transform(data):\n",
    "    data['price'] = round(data.price, 2)\n",
    "    return data"
   ]
  },
  {
   "cell_type": "code",
   "execution_count": 107,
   "id": "2931a97b",
   "metadata": {},
   "outputs": [],
   "source": [
    "#load\n",
    "def load(targetfile, data_to_be_loaded):\n",
    "    data_to_be_loaded.to_csv(targetfile)"
   ]
  },
  {
   "cell_type": "code",
   "execution_count": 108,
   "id": "78f9cd15",
   "metadata": {},
   "outputs": [],
   "source": [
    "#logging\n",
    "def log(message):\n",
    "    timestamp_format = '%Y-%h-%d-%H:%M:%S' # Year-Monthname-Day-Hour-Minute-Second\n",
    "    now = datetime.now() # get current timestamp\n",
    "    timestamp = now.strftime(timestamp_format)\n",
    "    with open(\"logfile.txt\",\"a\") as f:\n",
    "        f.write(timestamp + ',' + message + '\\n')"
   ]
  },
  {
   "cell_type": "markdown",
   "id": "8e88e3e3",
   "metadata": {},
   "source": [
    "##### Running ETL process"
   ]
  },
  {
   "cell_type": "code",
   "execution_count": 109,
   "id": "454e9c45",
   "metadata": {},
   "outputs": [],
   "source": [
    "#Log that you have started the ETL process\n",
    "log(\"ETL Job Started\")\n",
    "\n",
    "#Log that you have started the Extract step\n",
    "log(\"Extract phase Started\")\n",
    "extracted_data = extract()\n",
    "log(\"Extract phase Ended\")\n",
    "\n",
    "#Log that you have started the Transform step\n",
    "log(\"Transform phase Started\")\n",
    "transformed_data = transform(extracted_data)\n",
    "log(\"Transform phase Ended\")\n",
    "\n",
    "#Log that you have started the Load step\n",
    "log(\"Load phase Started\")\n",
    "load(targetfile,transformed_data)\n",
    "log(\"Load phase Ended\")\n",
    "\n",
    "#Log that you have completed the ETL process\n",
    "log(\"ETL Job Ended\")"
   ]
  },
  {
   "cell_type": "code",
   "execution_count": 110,
   "id": "43e97d43",
   "metadata": {},
   "outputs": [
    {
     "name": "stdout",
     "output_type": "stream",
     "text": [
      "        car_model  year_of_manufacture     price    fuel\n",
      "0            ritz                 2014   5000.00  Petrol\n",
      "1             sx4                 2013   7089.55  Diesel\n",
      "2            ciaz                 2017  10820.90  Petrol\n",
      "3         wagon r                 2011   4253.73  Petrol\n",
      "4           swift                 2014   6865.67  Diesel\n",
      "..            ...                  ...       ...     ...\n",
      "85          camry                 2006   3731.34  Petrol\n",
      "86   land cruiser                 2010  52238.81  Diesel\n",
      "87  corolla altis                 2012   8805.97  Petrol\n",
      "88     etios liva                 2013   5149.25  Petrol\n",
      "89        etios g                 2014   7089.55  Petrol\n",
      "\n",
      "[90 rows x 4 columns]\n"
     ]
    }
   ],
   "source": [
    "# reading transformed_data file\n",
    "# index_col is to remove the un-named index\n",
    "df = pd.read_csv(\"dealership_transformed_data.csv\", index_col=[0])\n",
    "print(df) "
   ]
  },
  {
   "cell_type": "code",
   "execution_count": null,
   "id": "eaa1b943",
   "metadata": {},
   "outputs": [],
   "source": []
  },
  {
   "cell_type": "code",
   "execution_count": null,
   "id": "f1c86464",
   "metadata": {},
   "outputs": [],
   "source": []
  }
 ],
 "metadata": {
  "kernelspec": {
   "display_name": "Python 3 (ipykernel)",
   "language": "python",
   "name": "python3"
  },
  "language_info": {
   "codemirror_mode": {
    "name": "ipython",
    "version": 3
   },
   "file_extension": ".py",
   "mimetype": "text/x-python",
   "name": "python",
   "nbconvert_exporter": "python",
   "pygments_lexer": "ipython3",
   "version": "3.9.4"
  }
 },
 "nbformat": 4,
 "nbformat_minor": 5
}
