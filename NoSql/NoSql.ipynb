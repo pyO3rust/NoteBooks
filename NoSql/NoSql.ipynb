{
 "cells": [
  {
   "cell_type": "markdown",
   "id": "f261054b",
   "metadata": {},
   "source": [
    "# MONGODB"
   ]
  },
  {
   "cell_type": "code",
   "execution_count": 1,
   "id": "84608364",
   "metadata": {},
   "outputs": [
    {
     "name": "stdout",
     "output_type": "stream",
     "text": [
      "Collecting pymongo\n",
      "  Downloading pymongo-3.12.0-cp39-cp39-win_amd64.whl (397 kB)\n",
      "Installing collected packages: pymongo\n",
      "Successfully installed pymongo-3.12.0\n"
     ]
    }
   ],
   "source": [
    "!pip install pymongo"
   ]
  },
  {
   "cell_type": "markdown",
   "id": "fe692da9",
   "metadata": {},
   "source": [
    "### Connecting to mongodb and getting the list of the databases"
   ]
  },
  {
   "cell_type": "code",
   "execution_count": 22,
   "id": "c0d578e0",
   "metadata": {
    "scrolled": true
   },
   "outputs": [
    {
     "name": "stdout",
     "output_type": "stream",
     "text": [
      "connecting to mongodbserver...\n",
      "Getting the list of databases \n",
      "\n",
      "admin\n",
      "config\n",
      "local\n",
      "training\n",
      "wardrobe\n",
      "\n",
      "Closing the connection to the mongoDB server\n"
     ]
    }
   ],
   "source": [
    "from pymongo import MongoClient\n",
    "host='localhost'\n",
    "connectUrl='mongodb://127.0.0.1:27017/?compressors=disabled&gssapiServiceName=mongodb'\n",
    "\n",
    "#connect to mongodb server\n",
    "print('connecting to mongodbserver...')\n",
    "connection=MongoClient(connectUrl)\n",
    "\n",
    "#getting the list of the databases\n",
    "print('Getting the list of databases \\n')\n",
    "dbs=connection.list_database_names()\n",
    "\n",
    "for db in dbs:\n",
    "    print(db)\n",
    "\n",
    "print('\\nClosing the connection to the mongoDB server')\n",
    "\n",
    "#closing the server connection\n",
    "connection.close()\n"
   ]
  },
  {
   "cell_type": "code",
   "execution_count": 24,
   "id": "d6683431",
   "metadata": {},
   "outputs": [
    {
     "name": "stdout",
     "output_type": "stream",
     "text": [
      "['admin', 'config', 'local', 'training', 'wardrobe']\n"
     ]
    }
   ],
   "source": [
    "#anothermethod (result will be in the list)\n",
    "print(connection.list_database_names())"
   ]
  },
  {
   "cell_type": "markdown",
   "id": "ba186140",
   "metadata": {},
   "source": [
    "### working with the documents"
   ]
  },
  {
   "cell_type": "code",
   "execution_count": 51,
   "id": "3cc5a113",
   "metadata": {},
   "outputs": [
    {
     "name": "stdout",
     "output_type": "stream",
     "text": [
      "connecting to mongodbserver...\n",
      "\n",
      "Inserting a document into collection\n",
      "Successful\n",
      "\n",
      "Printing the docs in the collection\n",
      "{'_id': ObjectId('6156cda9049b2f55801b33b2'), 'name': 'pradaJeans', 'price': 10000.0}\n",
      "{'_id': ObjectId('6156ce48049b2f55801b33b3'), 'name': 'gucciShoes', 'price': 100000.0}\n",
      "{'_id': ObjectId('6158a9c35dd1f6201a10c075'), 'name': 'RichardMille', 'price': 100000}\n",
      "closing the connection.\n"
     ]
    }
   ],
   "source": [
    "#connecting, creating collection, connecting to prebuilt collection, finding, inserting\n",
    "\n",
    "from pymongo import MongoClient\n",
    "host='localhost'\n",
    "connectUrl='mongodb://127.0.0.1:27017/?compressors=disabled&gssapiServiceName=mongodb'\n",
    "\n",
    "#connect to mongodb server\n",
    "print('connecting to mongodbserver...')\n",
    "connection=MongoClient(connectUrl)\n",
    "\n",
    "#selecting the 'wardrobe' database\n",
    "db=connection.wardrobe\n",
    "\n",
    "#if you wanna create a new collection & just replace myfancypicks with new collection name\n",
    "\n",
    "#creating a new sample document\n",
    "doc={'name':'RichardMille', 'price':100000}\n",
    "\n",
    "#inserting the sample\n",
    "print('\\nInserting a document into collection')\n",
    "db.myfancypicks.insert_one(doc)\n",
    "print('Successful')\n",
    "\n",
    "# query for all documents in the 'wardrobe' database & 'myfancypicks'\n",
    "docs=db.myfancypicks.find()\n",
    "\n",
    "print('\\nPrinting the docs in the collection')\n",
    "\n",
    "for document in docs:\n",
    "    print(document)\n",
    "    \n",
    "    \n",
    "#closing the server connection\n",
    "print('closing the connection.')\n",
    "connection.close()"
   ]
  },
  {
   "cell_type": "code",
   "execution_count": 71,
   "id": "081d6997",
   "metadata": {},
   "outputs": [
    {
     "name": "stdout",
     "output_type": "stream",
     "text": [
      "connecting to mongodbserver...\n",
      "Insertion in process..\n",
      "\n",
      "{'_id': ObjectId('6158be495dd1f6201a10c087'), 'database': 'a database contains collections'}\n",
      "{'_id': ObjectId('6158be495dd1f6201a10c088'), 'collection': 'a collection stores the documents'}\n",
      "{'_id': ObjectId('6158be495dd1f6201a10c089'), 'document': 'a document contains the data in the form or key value pairs'}\n",
      "\n",
      "Closing the connection.\n"
     ]
    }
   ],
   "source": [
    "#connecting, creating collection, connecting to prebuilt collection, finding, inserting\n",
    "\n",
    "from pymongo import MongoClient\n",
    "host='localhost'\n",
    "connectUrl='mongodb://127.0.0.1:27017/?compressors=disabled&gssapiServiceName=mongodb'\n",
    "\n",
    "#connect to mongodb server\n",
    "print('connecting to mongodbserver...')\n",
    "connection=MongoClient(connectUrl)\n",
    "\n",
    "db = connection.training\n",
    "mongodb=db.mongodb_glossary\n",
    "\n",
    "doc1={\"database\":\"a database contains collections\"}\n",
    "doc2={\"collection\":\"a collection stores the documents\"}\n",
    "doc3={\"document\":\"a document contains the data in the form or key value pairs\"}\n",
    "\n",
    "print('Insertion in process..\\n')\n",
    "db.mongodb.insert_many([doc1, doc2, doc3])\n",
    "\n",
    "pop = db.mongodb.find()\n",
    "\n",
    "#query for all documents in 'training' database and 'python' collection\n",
    "for i in pop:\n",
    "    print(i)\n",
    "    \n",
    "# close the server connecton\n",
    "print(\"\\nClosing the connection.\")\n",
    "connection.close()"
   ]
  },
  {
   "cell_type": "code",
   "execution_count": 84,
   "id": "05d3cd8e",
   "metadata": {},
   "outputs": [
    {
     "name": "stdout",
     "output_type": "stream",
     "text": [
      "{'_id': ObjectId('6156cda9049b2f55801b33b2'), 'name': 'pradaJeans', 'price': 10000.0}\n",
      "{'_id': ObjectId('6156ce48049b2f55801b33b3'), 'name': 'gucciShoes', 'price': 100000.0}\n",
      "{'_id': ObjectId('6158a9c35dd1f6201a10c075'), 'name': 'RichardMille', 'price': 100000}\n"
     ]
    }
   ],
   "source": [
    "#to see the documents in the collection\n",
    "db=connection.wardrobe     #connected to database\n",
    "gorp=db.myfancypicks.find()\n",
    "for i in gorp:\n",
    "    print(i)"
   ]
  },
  {
   "cell_type": "code",
   "execution_count": 76,
   "id": "56704d47",
   "metadata": {},
   "outputs": [
    {
     "name": "stdout",
     "output_type": "stream",
     "text": [
      "myfancypicks\n",
      "homepicks\n",
      "collection\n",
      "myrandompicks\n",
      "myhomepicks\n",
      "myoutpicks\n"
     ]
    }
   ],
   "source": [
    "#to list the name of all collections\n",
    "db=connection.wardrobe\n",
    "collections=db.list_collection_names()\n",
    "for i in collections:\n",
    "    print(i)\n"
   ]
  },
  {
   "cell_type": "code",
   "execution_count": 75,
   "id": "671c68c1",
   "metadata": {},
   "outputs": [
    {
     "name": "stdout",
     "output_type": "stream",
     "text": [
      "Present\n"
     ]
    }
   ],
   "source": [
    "#to check if any specific collection is present or not\n",
    "collections=db.list_collection_names()\n",
    "\n",
    "if 'myfancypicks' in collections:\n",
    "    print('Present')\n",
    "else:\n",
    "    print('Absent')\n",
    "    \n"
   ]
  },
  {
   "cell_type": "markdown",
   "id": "73b4fd1e",
   "metadata": {},
   "source": [
    "#### If you do not want MongoDB to assign unique ids for you document, you can specify the _id field when you insert the document(s).\n",
    "\n",
    "#### Remember that the values has to be unique. Two documents cannot have the same _id."
   ]
  },
  {
   "cell_type": "code",
   "execution_count": 94,
   "id": "96bc0343",
   "metadata": {},
   "outputs": [
    {
     "name": "stdout",
     "output_type": "stream",
     "text": [
      "[1, 2, 3, 4, 5, 6, 7, 8, 9, 10, 11, 12, 13, 14]\n"
     ]
    }
   ],
   "source": [
    "#creating a database, a collection and putting the documents into it\n",
    "\n",
    "from pymongo import MongoClient as connection\n",
    "\n",
    "connection = connection('mongodb://127.0.0.1:27017/?compressors=disabled&gssapiServiceName=mongodb')\n",
    "\n",
    "#creating a database\n",
    "mydb = connection['shops']                  #creating database name\n",
    "mycol = mydb['customers']                   #creating a collection\n",
    "\n",
    "my_list = [\n",
    "  { \"_id\": 1, \"name\": \"John\", \"address\": \"Highway 37\"},\n",
    "  { \"_id\": 2, \"name\": \"Peter\", \"address\": \"Lowstreet 27\"},\n",
    "  { \"_id\": 3, \"name\": \"Amy\", \"address\": \"Apple st 652\"},\n",
    "  { \"_id\": 4, \"name\": \"Hannah\", \"address\": \"Mountain 21\"},\n",
    "  { \"_id\": 5, \"name\": \"Michael\", \"address\": \"Valley 345\"},\n",
    "  { \"_id\": 6, \"name\": \"Sandy\", \"address\": \"Ocean blvd 2\"},\n",
    "  { \"_id\": 7, \"name\": \"Betty\", \"address\": \"Green Grass 1\"},\n",
    "  { \"_id\": 8, \"name\": \"Richard\", \"address\": \"Sky st 331\"},\n",
    "  { \"_id\": 9, \"name\": \"Susan\", \"address\": \"One way 98\"},\n",
    "  { \"_id\": 10, \"name\": \"Vicky\", \"address\": \"Yellow Garden 2\"},\n",
    "  { \"_id\": 11, \"name\": \"Ben\", \"address\": \"Park Lane 38\"},\n",
    "  { \"_id\": 12, \"name\": \"William\", \"address\": \"Central st 954\"},\n",
    "  { \"_id\": 13, \"name\": \"Chuck\", \"address\": \"Main Road 989\"},\n",
    "  { \"_id\": 14, \"name\": \"Viola\", \"address\": \"Sideway 1633\"}\n",
    "]\n",
    "\n",
    "x = mycol.insert_many(my_list)\n",
    "\n",
    "#print list of the _id values of the inserted documents:\n",
    "print(x.inserted_ids)\n"
   ]
  },
  {
   "cell_type": "code",
   "execution_count": 1,
   "id": "2e05929d",
   "metadata": {},
   "outputs": [
    {
     "name": "stdout",
     "output_type": "stream",
     "text": [
      "Requirement already satisfied: ipython-sql in c:\\python 3.9\\lib\\site-packages (0.4.0)\n",
      "Requirement already satisfied: ipython-genutils>=0.1.0 in c:\\python 3.9\\lib\\site-packages (from ipython-sql) (0.2.0)\n",
      "Requirement already satisfied: sqlalchemy>=0.6.7 in c:\\python 3.9\\lib\\site-packages (from ipython-sql) (1.4.25)\n",
      "Requirement already satisfied: six in c:\\python 3.9\\lib\\site-packages (from ipython-sql) (1.15.0)\n",
      "Requirement already satisfied: prettytable<1 in c:\\python 3.9\\lib\\site-packages (from ipython-sql) (0.7.2)\n",
      "Requirement already satisfied: sqlparse in c:\\python 3.9\\lib\\site-packages (from ipython-sql) (0.4.1)\n",
      "Requirement already satisfied: ipython>=1.0 in c:\\python 3.9\\lib\\site-packages (from ipython-sql) (7.25.0)\n",
      "Requirement already satisfied: pickleshare in c:\\python 3.9\\lib\\site-packages (from ipython>=1.0->ipython-sql) (0.7.5)\n",
      "Requirement already satisfied: backcall in c:\\python 3.9\\lib\\site-packages (from ipython>=1.0->ipython-sql) (0.2.0)\n",
      "Requirement already satisfied: traitlets>=4.2 in c:\\python 3.9\\lib\\site-packages (from ipython>=1.0->ipython-sql) (5.0.5)\n",
      "Requirement already satisfied: prompt-toolkit!=3.0.0,!=3.0.1,<3.1.0,>=2.0.0 in c:\\python 3.9\\lib\\site-packages (from ipython>=1.0->ipython-sql) (3.0.19)\n",
      "Requirement already satisfied: jedi>=0.16 in c:\\python 3.9\\lib\\site-packages (from ipython>=1.0->ipython-sql) (0.18.0)\n",
      "Requirement already satisfied: setuptools>=18.5 in c:\\python 3.9\\lib\\site-packages (from ipython>=1.0->ipython-sql) (49.2.1)\n",
      "Requirement already satisfied: matplotlib-inline in c:\\python 3.9\\lib\\site-packages (from ipython>=1.0->ipython-sql) (0.1.2)\n",
      "Requirement already satisfied: pygments in c:\\python 3.9\\lib\\site-packages (from ipython>=1.0->ipython-sql) (2.9.0)\n",
      "Requirement already satisfied: colorama in c:\\python 3.9\\lib\\site-packages (from ipython>=1.0->ipython-sql) (0.4.4)\n",
      "Requirement already satisfied: decorator in c:\\python 3.9\\lib\\site-packages (from ipython>=1.0->ipython-sql) (5.0.9)\n",
      "Requirement already satisfied: parso<0.9.0,>=0.8.0 in c:\\python 3.9\\lib\\site-packages (from jedi>=0.16->ipython>=1.0->ipython-sql) (0.8.2)\n",
      "Requirement already satisfied: wcwidth in c:\\python 3.9\\lib\\site-packages (from prompt-toolkit!=3.0.0,!=3.0.1,<3.1.0,>=2.0.0->ipython>=1.0->ipython-sql) (0.2.5)\n",
      "Requirement already satisfied: greenlet!=0.4.17 in c:\\python 3.9\\lib\\site-packages (from sqlalchemy>=0.6.7->ipython-sql) (1.1.1)\n"
     ]
    }
   ],
   "source": [
    "!pip install ipython-sql"
   ]
  },
  {
   "cell_type": "code",
   "execution_count": 2,
   "id": "f6911d64",
   "metadata": {},
   "outputs": [],
   "source": [
    "%load_ext sql"
   ]
  },
  {
   "cell_type": "code",
   "execution_count": 3,
   "id": "ffcbc863",
   "metadata": {
    "scrolled": false
   },
   "outputs": [
    {
     "name": "stdout",
     "output_type": "stream",
     "text": [
      "Collecting spylon-kernel\n",
      "  Downloading spylon-kernel-0.4.1.tar.gz (33 kB)\n",
      "Requirement already satisfied: ipykernel in c:\\python 3.9\\lib\\site-packages (from spylon-kernel) (6.0.3)\n",
      "Requirement already satisfied: jedi>=0.10 in c:\\python 3.9\\lib\\site-packages (from spylon-kernel) (0.18.0)\n",
      "Collecting metakernel\n",
      "  Downloading metakernel-0.27.5-py2.py3-none-any.whl (208 kB)\n",
      "Collecting spylon[spark]\n",
      "  Downloading spylon-0.3.0.tar.gz (140 kB)\n",
      "Requirement already satisfied: tornado in c:\\python 3.9\\lib\\site-packages (from spylon-kernel) (6.1)\n",
      "Requirement already satisfied: parso<0.9.0,>=0.8.0 in c:\\python 3.9\\lib\\site-packages (from jedi>=0.10->spylon-kernel) (0.8.2)\n",
      "Requirement already satisfied: matplotlib-inline<0.2.0,>=0.1.0 in c:\\python 3.9\\lib\\site-packages (from ipykernel->spylon-kernel) (0.1.2)\n",
      "Requirement already satisfied: ipython<8.0,>=7.23.1 in c:\\python 3.9\\lib\\site-packages (from ipykernel->spylon-kernel) (7.25.0)\n",
      "Requirement already satisfied: jupyter-client<7.0 in c:\\python 3.9\\lib\\site-packages (from ipykernel->spylon-kernel) (6.1.12)\n",
      "Requirement already satisfied: traitlets<6.0,>=4.1.0 in c:\\python 3.9\\lib\\site-packages (from ipykernel->spylon-kernel) (5.0.5)\n",
      "Requirement already satisfied: debugpy<2.0,>=1.0.0 in c:\\python 3.9\\lib\\site-packages (from ipykernel->spylon-kernel) (1.4.1)\n",
      "Requirement already satisfied: prompt-toolkit!=3.0.0,!=3.0.1,<3.1.0,>=2.0.0 in c:\\python 3.9\\lib\\site-packages (from ipython<8.0,>=7.23.1->ipykernel->spylon-kernel) (3.0.19)\n",
      "Requirement already satisfied: colorama in c:\\python 3.9\\lib\\site-packages (from ipython<8.0,>=7.23.1->ipykernel->spylon-kernel) (0.4.4)\n",
      "Requirement already satisfied: pickleshare in c:\\python 3.9\\lib\\site-packages (from ipython<8.0,>=7.23.1->ipykernel->spylon-kernel) (0.7.5)\n",
      "Requirement already satisfied: decorator in c:\\python 3.9\\lib\\site-packages (from ipython<8.0,>=7.23.1->ipykernel->spylon-kernel) (5.0.9)\n",
      "Requirement already satisfied: setuptools>=18.5 in c:\\python 3.9\\lib\\site-packages (from ipython<8.0,>=7.23.1->ipykernel->spylon-kernel) (49.2.1)\n",
      "Requirement already satisfied: backcall in c:\\python 3.9\\lib\\site-packages (from ipython<8.0,>=7.23.1->ipykernel->spylon-kernel) (0.2.0)\n",
      "Requirement already satisfied: pygments in c:\\python 3.9\\lib\\site-packages (from ipython<8.0,>=7.23.1->ipykernel->spylon-kernel) (2.9.0)\n",
      "Requirement already satisfied: pyzmq>=13 in c:\\python 3.9\\lib\\site-packages (from jupyter-client<7.0->ipykernel->spylon-kernel) (22.1.0)\n",
      "Requirement already satisfied: python-dateutil>=2.1 in c:\\python 3.9\\lib\\site-packages (from jupyter-client<7.0->ipykernel->spylon-kernel) (2.8.1)\n",
      "Requirement already satisfied: jupyter-core>=4.6.0 in c:\\python 3.9\\lib\\site-packages (from jupyter-client<7.0->ipykernel->spylon-kernel) (4.7.1)\n",
      "Requirement already satisfied: pywin32>=1.0 in c:\\python 3.9\\lib\\site-packages (from jupyter-core>=4.6.0->jupyter-client<7.0->ipykernel->spylon-kernel) (301)\n",
      "Requirement already satisfied: wcwidth in c:\\python 3.9\\lib\\site-packages (from prompt-toolkit!=3.0.0,!=3.0.1,<3.1.0,>=2.0.0->ipython<8.0,>=7.23.1->ipykernel->spylon-kernel) (0.2.5)\n",
      "Requirement already satisfied: six>=1.5 in c:\\python 3.9\\lib\\site-packages (from python-dateutil>=2.1->jupyter-client<7.0->ipykernel->spylon-kernel) (1.15.0)\n",
      "Requirement already satisfied: ipython-genutils in c:\\python 3.9\\lib\\site-packages (from traitlets<6.0,>=4.1.0->ipykernel->spylon-kernel) (0.2.0)\n",
      "Collecting pexpect>=4.2\n",
      "  Downloading pexpect-4.8.0-py2.py3-none-any.whl (59 kB)\n",
      "Collecting ptyprocess>=0.5\n",
      "  Downloading ptyprocess-0.7.0-py2.py3-none-any.whl (13 kB)\n",
      "Collecting findspark\n",
      "  Downloading findspark-1.4.2-py2.py3-none-any.whl (4.2 kB)\n",
      "Collecting pyyaml\n",
      "  Downloading PyYAML-5.4.1-cp39-cp39-win_amd64.whl (213 kB)\n",
      "Building wheels for collected packages: spylon-kernel, spylon\n",
      "  Building wheel for spylon-kernel (setup.py): started\n",
      "  Building wheel for spylon-kernel (setup.py): finished with status 'done'\n",
      "  Created wheel for spylon-kernel: filename=spylon_kernel-0.4.1-py2.py3-none-any.whl size=18354 sha256=6f0183c162fb97daf8e165f7156f3e60ed739891648962d48c571d704a00f2c6\n",
      "  Stored in directory: c:\\users\\akshay kumar\\appdata\\local\\pip\\cache\\wheels\\f8\\f1\\04\\7b6c8644c458aeb767c82f459c06b8074c63339e8c5654e551\n",
      "  Building wheel for spylon (setup.py): started\n",
      "  Building wheel for spylon (setup.py): finished with status 'done'\n",
      "  Created wheel for spylon: filename=spylon-0.3.0-py3-none-any.whl size=136184 sha256=1e48ae7af1588479c7779e72220de190ceb95c954ed10dfe896fc0cddf6183ae\n",
      "  Stored in directory: c:\\users\\akshay kumar\\appdata\\local\\pip\\cache\\wheels\\2e\\df\\61\\860b966d814585b16ac84f72060ca1578b17bdb7f8684f26d6\n",
      "Successfully built spylon-kernel spylon\n",
      "Installing collected packages: ptyprocess, spylon, pyyaml, pexpect, findspark, metakernel, spylon-kernel\n",
      "Successfully installed findspark-1.4.2 metakernel-0.27.5 pexpect-4.8.0 ptyprocess-0.7.0 pyyaml-5.4.1 spylon-0.3.0 spylon-kernel-0.4.1\n"
     ]
    }
   ],
   "source": [
    "!pip install spylon-kernel"
   ]
  },
  {
   "cell_type": "markdown",
   "id": "6e9f217a",
   "metadata": {},
   "source": [
    "# TO BE CONTINUED IN IBM WATSON.... WITH SPARK"
   ]
  },
  {
   "cell_type": "code",
   "execution_count": null,
   "id": "9bd2c793",
   "metadata": {},
   "outputs": [],
   "source": []
  }
 ],
 "metadata": {
  "kernelspec": {
   "display_name": "Python 3 (ipykernel)",
   "language": "python",
   "name": "python3"
  },
  "language_info": {
   "codemirror_mode": {
    "name": "ipython",
    "version": 3
   },
   "file_extension": ".py",
   "mimetype": "text/x-python",
   "name": "python",
   "nbconvert_exporter": "python",
   "pygments_lexer": "ipython3",
   "version": "3.9.4"
  }
 },
 "nbformat": 4,
 "nbformat_minor": 5
}
